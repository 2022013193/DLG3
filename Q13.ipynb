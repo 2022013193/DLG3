{
  "nbformat": 4,
  "nbformat_minor": 0,
  "metadata": {
    "colab": {
      "provenance": [],
      "authorship_tag": "ABX9TyPkmrAmhbeQ/3nRLDRZva9a",
      "include_colab_link": true
    },
    "kernelspec": {
      "name": "python3",
      "display_name": "Python 3"
    },
    "language_info": {
      "name": "python"
    }
  },
  "cells": [
    {
      "cell_type": "markdown",
      "metadata": {
        "id": "view-in-github",
        "colab_type": "text"
      },
      "source": [
        "<a href=\"https://colab.research.google.com/github/gnyr324/DLG3/blob/main/Q13.ipynb\" target=\"_parent\"><img src=\"https://colab.research.google.com/assets/colab-badge.svg\" alt=\"Open In Colab\"/></a>"
      ]
    },
    {
      "cell_type": "markdown",
      "source": [
        "Q13. Create a list called numbers. Using the random.randint() function, add five random integers to\n",
        "it. Then, print the list."
      ],
      "metadata": {
        "id": "OjJhTj_19Y9A"
      }
    },
    {
      "cell_type": "code",
      "execution_count": 15,
      "metadata": {
        "id": "2atc9-R69Wuz"
      },
      "outputs": [],
      "source": [
        "import random"
      ]
    },
    {
      "cell_type": "code",
      "source": [
        "numbers = []\n",
        "for _ in range(5):\n",
        "  x = random.randint(0,100)\n",
        "  numbers.append(x)\n",
        "\n",
        "print(numbers)"
      ],
      "metadata": {
        "id": "hHmMa_HMJGoH",
        "outputId": "01880d1a-2396-43b7-99d9-7807e09fe374",
        "colab": {
          "base_uri": "https://localhost:8080/"
        }
      },
      "execution_count": 29,
      "outputs": [
        {
          "output_type": "stream",
          "name": "stdout",
          "text": [
            "[2, 29, 78, 81, 12]\n"
          ]
        }
      ]
    }
  ]
}