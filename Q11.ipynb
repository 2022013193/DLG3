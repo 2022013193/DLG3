{
  "nbformat": 4,
  "nbformat_minor": 0,
  "metadata": {
    "colab": {
      "provenance": [],
      "authorship_tag": "ABX9TyMr0vJRUUYeSKjIl6e2+DV3",
      "include_colab_link": true
    },
    "kernelspec": {
      "name": "python3",
      "display_name": "Python 3"
    },
    "language_info": {
      "name": "python"
    }
  },
  "cells": [
    {
      "cell_type": "markdown",
      "metadata": {
        "id": "view-in-github",
        "colab_type": "text"
      },
      "source": [
        "<a href=\"https://colab.research.google.com/github/gnyr324/DLG3/blob/main/Q11.ipynb\" target=\"_parent\"><img src=\"https://colab.research.google.com/assets/colab-badge.svg\" alt=\"Open In Colab\"/></a>"
      ]
    },
    {
      "cell_type": "markdown",
      "source": [
        "Q11. Create a variable called my_list and set it to [1, 2, 3, 4, 5]. Use the len() function to find the\n",
        "length of the list. Then, print the length."
      ],
      "metadata": {
        "id": "nPMJwbgM9qme"
      }
    },
    {
      "cell_type": "code",
      "execution_count": 1,
      "metadata": {
        "id": "jLJUZ6ON9p9p",
        "colab": {
          "base_uri": "https://localhost:8080/"
        },
        "outputId": "f6ef4f42-ce35-49f9-d9c1-33a33e3f0851"
      },
      "outputs": [
        {
          "output_type": "stream",
          "name": "stdout",
          "text": [
            "5\n"
          ]
        }
      ],
      "source": [
        "my_list = [1,2,3,4,5]\n",
        "print(\n",
        "    len(my_list)\n",
        "    )"
      ]
    }
  ]
}